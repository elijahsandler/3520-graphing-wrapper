{
 "cells": [
  {
   "cell_type": "code",
   "execution_count": 1,
   "id": "1a882be4",
   "metadata": {},
   "outputs": [],
   "source": [
    "import pandas as pd\n",
    "import requests\n",
    "from tqdm import tqdm\n",
    "import statistics\n",
    "import sys"
   ]
  },
  {
   "cell_type": "code",
   "execution_count": 2,
   "id": "2337b137",
   "metadata": {},
   "outputs": [],
   "source": [
    "def kelvin_to_fahrenheit(kelvin_temp):\n",
    "    return (kelvin_temp - 273.15) * 9/5 + 32\n",
    "\n",
    "def get_yearly_weather_data(api_key, lat, lon):\n",
    "    base_url = \"http://api.openweathermap.org/data/2.5/onecall/timemachine\"\n",
    "    params = {\n",
    "        'lat': lat,\n",
    "        'lon': lon,\n",
    "        'appid': api_key,\n",
    "        'start': 1640995200,\n",
    "        'end': 1641067200,   \n",
    "    }\n",
    "\n",
    "    response = requests.get(base_url, params=params)\n",
    "\n",
    "    if response.status_code == 200:\n",
    "        data = response.json()\n",
    "\n",
    "        high_temps_kelvin = [entry['temp']['max'] for entry in data['hourly']]\n",
    "        low_temps_kelvin = [entry['temp']['min'] for entry in data['hourly']]\n",
    "        total_rainfall = sum(entry['rain']['1h'] if 'rain' in entry else 0 for entry in data['hourly'])\n",
    "\n",
    "        high_temps_fahrenheit = [kelvin_to_fahrenheit(temp) for temp in high_temps_kelvin]\n",
    "        low_temps_fahrenheit = [kelvin_to_fahrenheit(temp) for temp in low_temps_kelvin]\n",
    "\n",
    "        median_high_temp = statistics.median(high_temps_fahrenheit)\n",
    "        median_low_temp = statistics.median(low_temps_fahrenheit)\n",
    "\n",
    "        return median_high_temp, median_low_temp, total_rainfall\n",
    "    else:\n",
    "        return None, None, None"
   ]
  },
  {
   "cell_type": "code",
   "execution_count": 3,
   "id": "e2cbb746",
   "metadata": {},
   "outputs": [],
   "source": [
    "df_cities = pd.read_csv('worldcities.csv')\n",
    "df_cities = df_cities[df_cities.index < 500]"
   ]
  },
  {
   "cell_type": "code",
   "execution_count": 4,
   "id": "97755b67",
   "metadata": {},
   "outputs": [],
   "source": [
    "cap_dict = dict(zip(df_cities['capital'].unique(), range(int(4))))\n",
    "df_cities['capital'].replace(cap_dict, inplace=True)"
   ]
  },
  {
   "cell_type": "code",
   "execution_count": null,
   "id": "47ca19a6",
   "metadata": {},
   "outputs": [],
   "source": [
    "# try:\n",
    "#     api_key = sys.argv[1]\n",
    "# except(IndexError):\n",
    "api_key = \"60d37b0c7315fd2976c8042ba444c932\"\n",
    "# try:\n",
    "for idx in tqdm(df_cities.index, desc='collecting weather data', colour='#7ba67e'):\n",
    "    print(df_cities.loc[idx, 'city_ascii'])\n",
    "    high, low, rain = get_yearly_weather_data(api_key, df_cities.loc[idx, 'lat'], df_cities.loc[idx, 'lng'])\n",
    "    df_cities.loc[idx, ['low_temp', 'high_temp', 'rain']] = [high, low, rain]\n",
    "# except:\n",
    "#     pass"
   ]
  },
  {
   "cell_type": "code",
   "execution_count": null,
   "id": "6bfbe7d4",
   "metadata": {},
   "outputs": [],
   "source": [
    "df_cities.to_csv('worldcities_temp.csv')"
   ]
  }
 ],
 "metadata": {
  "kernelspec": {
   "display_name": "Python 3 (ipykernel)",
   "language": "python",
   "name": "python3"
  },
  "language_info": {
   "codemirror_mode": {
    "name": "ipython",
    "version": 3
   },
   "file_extension": ".py",
   "mimetype": "text/x-python",
   "name": "python",
   "nbconvert_exporter": "python",
   "pygments_lexer": "ipython3",
   "version": "3.11.5"
  }
 },
 "nbformat": 4,
 "nbformat_minor": 5
}
