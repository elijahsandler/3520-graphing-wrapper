{
 "cells": [
  {
   "cell_type": "code",
   "execution_count": 1,
   "id": "1a882be4",
   "metadata": {},
   "outputs": [],
   "source": [
    "import pandas as pd\n",
    "import requests\n",
    "from tqdm import tqdm\n",
    "import statistics\n",
    "import sys"
   ]
  },
  {
   "cell_type": "code",
   "execution_count": 4,
   "id": "2337b137",
   "metadata": {},
   "outputs": [],
   "source": [
    "def kelvin_to_fahrenheit(kelvin_temp):\n",
    "    return (kelvin_temp - 273.15) * 9/5 + 32\n",
    "\n",
    "def get_weather_data(api_key, lat, lon): \n",
    "    url = f\"https://api.openweathermap.org/data/3.0/onecall?lat={lat}&lon={lon}&appid={api_key}&units=imperial\"\n",
    "\n",
    "    response = requests.get(url)\n",
    "\n",
    "    data = response.json()\n",
    "    \n",
    "    return data\n",
    "\n",
    "    low = data['daily'][0]['temp']['min']\n",
    "    high = data['daily'][0]['temp']['max']\n",
    "    rain = data['daily'][0]['rain']\n",
    "\n",
    "    return high, low, rain"
   ]
  },
  {
   "cell_type": "code",
   "execution_count": null,
   "id": "e2cbb746",
   "metadata": {},
   "outputs": [],
   "source": [
    "df_cities = pd.read_csv('worldcities.csv')\n",
    "df_cities = df_cities[df_cities.index < 500]"
   ]
  },
  {
   "cell_type": "code",
   "execution_count": null,
   "id": "97755b67",
   "metadata": {},
   "outputs": [],
   "source": [
    "cap_dict = dict(zip(df_cities['capital'].unique(), range(int(4))))\n",
    "df_cities['capital'].replace(cap_dict, inplace=True)"
   ]
  },
  {
   "cell_type": "code",
   "execution_count": null,
   "id": "47ca19a6",
   "metadata": {},
   "outputs": [],
   "source": [
    "try:\n",
    "    api_key = sys.argv[1]\n",
    "except(IndexError):\n",
    "    api_key = \"852c39dbb0207981c036677327cf4947\"\n",
    "try:\n",
    "    for idx in tqdm(df_cities.index, desc='collecting weather data', colour='#7ba67e'):\n",
    "        print(df_cities.loc[idx, 'city_ascii'])\n",
    "        high, low, rain = get_weather_data(api_key, df_cities.loc[idx, 'lat'], df_cities.loc[idx, 'lng'])\n",
    "        df_cities.loc[idx, ['low_temp', 'high_temp', 'rain']] = [high, low, rain]\n",
    "    df_cities.to_csv('worldcities_temp.csv')\n",
    "except:\n",
    "    print(\"Error accessing API\\n\")"
   ]
  }
 ],
 "metadata": {
  "kernelspec": {
   "display_name": "Python 3 (ipykernel)",
   "language": "python",
   "name": "python3"
  },
  "language_info": {
   "codemirror_mode": {
    "name": "ipython",
    "version": 3
   },
   "file_extension": ".py",
   "mimetype": "text/x-python",
   "name": "python",
   "nbconvert_exporter": "python",
   "pygments_lexer": "ipython3",
   "version": "3.11.5"
  }
 },
 "nbformat": 4,
 "nbformat_minor": 5
}
